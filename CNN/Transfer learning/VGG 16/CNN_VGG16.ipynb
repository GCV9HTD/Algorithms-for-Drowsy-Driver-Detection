{
 "cells": [
  {
   "cell_type": "markdown",
   "metadata": {},
   "source": [
    "* This notebook contains a CNN model trained on drowsy driving images. <br>\n",
    "* 60s Time series were windowed from original win60s events. \n",
    "* These time series were then oversampled using the OSTSC package in R. \n",
    "* Oversampled time series were converted to MTF and RP images using the pyts package in pyton."
   ]
  },
  {
   "cell_type": "code",
   "execution_count": 1,
   "metadata": {},
   "outputs": [
    {
     "name": "stderr",
     "output_type": "stream",
     "text": [
      "/Users/apple/anaconda3/lib/python3.6/site-packages/h5py/__init__.py:34: FutureWarning: Conversion of the second argument of issubdtype from `float` to `np.floating` is deprecated. In future, it will be treated as `np.float64 == np.dtype(float).type`.\n",
      "  from ._conv import register_converters as _register_converters\n",
      "Using TensorFlow backend.\n"
     ]
    },
    {
     "data": {
      "text/plain": [
       "'/Users/apple/Drowsy/60'"
      ]
     },
     "execution_count": 1,
     "metadata": {},
     "output_type": "execute_result"
    }
   ],
   "source": [
    "import pandas as pd\n",
    "import numpy as np\n",
    "import random\n",
    "import os\n",
    "from keras.utils import np_utils\n",
    "from keras import layers\n",
    "from keras import models\n",
    "from keras import optimizers\n",
    "import tensorflow as tf\n",
    "from sklearn.preprocessing import LabelEncoder\n",
    "import matplotlib.pyplot as plt\n",
    "from sklearn.metrics import confusion_matrix\n",
    "from keras import metrics\n",
    "from keras import backend as K\n",
    "from sklearn.utils import class_weight\n",
    "from matplotlib import pyplot\n",
    "from sklearn.metrics import roc_curve, auc\n",
    "from keras.preprocessing import image\n",
    "from keras.datasets import mnist\n",
    "from sklearn.preprocessing import LabelEncoder\n",
    "from sklearn.metrics import roc_auc_score\n",
    "\n",
    "os.getcwd()\n",
    "\n",
    "\n"
   ]
  },
  {
   "cell_type": "code",
   "execution_count": 2,
   "metadata": {},
   "outputs": [
    {
     "name": "stdout",
     "output_type": "stream",
     "text": [
      "(3496, 61, 61)\n",
      "(3496,)\n"
     ]
    }
   ],
   "source": [
    "#Read image array from disk\n",
    "x_train = np.loadtxt('x_train_MTF_j.txt').reshape((3496,61,61)) #using MTF\n",
    "y_train = np.loadtxt('y_train_MTF_j.txt')\n",
    "print(x_train.shape)\n",
    "print(y_train.shape)"
   ]
  },
  {
   "cell_type": "code",
   "execution_count": 3,
   "metadata": {},
   "outputs": [
    {
     "name": "stdout",
     "output_type": "stream",
     "text": [
      "Shape of the training image tensor after preprocessing:  (3496, 61, 61, 3)\n"
     ]
    }
   ],
   "source": [
    "#Defining a bunch of custom functions for preprocessing\n",
    "\n",
    "#Normalize the images\n",
    "def norm(data_x):\n",
    "#convert to float32 and normalize to [0,1]\n",
    "    data_x = data_x.astype('float32')\n",
    "    data_x /= np.amax(data_x)\n",
    "    return data_x\n",
    "\n",
    "# convert labels to integers\n",
    "def l_i(data_y):\n",
    "    encoder = LabelEncoder()\n",
    "    encoder.fit(data_y)\n",
    "    data_y = encoder.transform(data_y)\n",
    "    return data_y\n",
    "\n",
    "#convert greyscale image to a 3D image\n",
    "def rgb(greyscale):\n",
    "    '''Takes in a 1 channel image and converts to rgb'''\n",
    "    rgb_batch = np.repeat(greyscale[..., np.newaxis], 3, -1)\n",
    "    return rgb_batch\n",
    "\n",
    "train_x = norm(x_train)\n",
    "train_y = l_i(y_train)\n",
    "train_x = rgb(x_train)\n",
    "print('Shape of the training image tensor after preprocessing: ', train_x.shape)"
   ]
  },
  {
   "cell_type": "code",
   "execution_count": 4,
   "metadata": {},
   "outputs": [
    {
     "name": "stdout",
     "output_type": "stream",
     "text": [
      "_________________________________________________________________\n",
      "Layer (type)                 Output Shape              Param #   \n",
      "=================================================================\n",
      "input_1 (InputLayer)         (None, None, None, 3)     0         \n",
      "_________________________________________________________________\n",
      "block1_conv1 (Conv2D)        (None, None, None, 64)    1792      \n",
      "_________________________________________________________________\n",
      "block1_conv2 (Conv2D)        (None, None, None, 64)    36928     \n",
      "_________________________________________________________________\n",
      "block1_pool (MaxPooling2D)   (None, None, None, 64)    0         \n",
      "_________________________________________________________________\n",
      "block2_conv1 (Conv2D)        (None, None, None, 128)   73856     \n",
      "_________________________________________________________________\n",
      "block2_conv2 (Conv2D)        (None, None, None, 128)   147584    \n",
      "_________________________________________________________________\n",
      "block2_pool (MaxPooling2D)   (None, None, None, 128)   0         \n",
      "_________________________________________________________________\n",
      "block3_conv1 (Conv2D)        (None, None, None, 256)   295168    \n",
      "_________________________________________________________________\n",
      "block3_conv2 (Conv2D)        (None, None, None, 256)   590080    \n",
      "_________________________________________________________________\n",
      "block3_conv3 (Conv2D)        (None, None, None, 256)   590080    \n",
      "_________________________________________________________________\n",
      "block3_pool (MaxPooling2D)   (None, None, None, 256)   0         \n",
      "_________________________________________________________________\n",
      "block4_conv1 (Conv2D)        (None, None, None, 512)   1180160   \n",
      "_________________________________________________________________\n",
      "block4_conv2 (Conv2D)        (None, None, None, 512)   2359808   \n",
      "_________________________________________________________________\n",
      "block4_conv3 (Conv2D)        (None, None, None, 512)   2359808   \n",
      "_________________________________________________________________\n",
      "block4_pool (MaxPooling2D)   (None, None, None, 512)   0         \n",
      "_________________________________________________________________\n",
      "block5_conv1 (Conv2D)        (None, None, None, 512)   2359808   \n",
      "_________________________________________________________________\n",
      "block5_conv2 (Conv2D)        (None, None, None, 512)   2359808   \n",
      "_________________________________________________________________\n",
      "block5_conv3 (Conv2D)        (None, None, None, 512)   2359808   \n",
      "_________________________________________________________________\n",
      "block5_pool (MaxPooling2D)   (None, None, None, 512)   0         \n",
      "=================================================================\n",
      "Total params: 14,714,688\n",
      "Trainable params: 14,714,688\n",
      "Non-trainable params: 0\n",
      "_________________________________________________________________\n"
     ]
    }
   ],
   "source": [
    "############TRANSFER LEARNING##########\n",
    "from keras.applications.vgg16 import VGG16 #Using VGG16\n",
    "from keras.layers import Input, Dense, Convolution2D, MaxPooling2D, AveragePooling2D, ZeroPadding2D, Dropout, Flatten, merge, Reshape, Activation\n",
    "from keras.models import Model\n",
    "from keras.optimizers import SGD\n",
    "\n",
    "conv_base = VGG16(weights='imagenet', #Using pretrained weights of imagenet\n",
    "                  include_top=False,\n",
    "                  input_shape= False)\n",
    "conv_base.summary()"
   ]
  },
  {
   "cell_type": "markdown",
   "metadata": {},
   "source": [
    "In the step below we apply the convolutional base of the pretrained model on our training set of images."
   ]
  },
  {
   "cell_type": "code",
   "execution_count": 5,
   "metadata": {},
   "outputs": [
    {
     "name": "stdout",
     "output_type": "stream",
     "text": [
      "(3496, 512)\n"
     ]
    }
   ],
   "source": [
    "train_features = conv_base.predict(train_x)\n",
    "train_features = np.reshape(train_features, (3496, 1 * 1 * 512)) #flatten it\n",
    "print(train_features.shape)"
   ]
  },
  {
   "cell_type": "code",
   "execution_count": 6,
   "metadata": {
    "collapsed": true
   },
   "outputs": [],
   "source": [
    "#defining 3 custom metric for guiding our neural network\n",
    "def auc_roc(y_true, y_pred):\n",
    "    # any tensorflow metric\n",
    "    #value, update_op = metrics.roc_auc_score(y_true, y_pred)\n",
    "    value, update_op = tf.metrics.auc(y_true, y_pred)\n",
    "\n",
    "    # find all variables created for this metric\n",
    "    metric_vars = [i for i in tf.local_variables() if 'auc_roc' in i.name.split('/')[1]]\n",
    "\n",
    "    # Add metric variables to GLOBAL_VARIABLES collection.\n",
    "    # They will be initialized for new session.\n",
    "    for v in metric_vars:\n",
    "        tf.add_to_collection(tf.GraphKeys.GLOBAL_VARIABLES, v)\n",
    "\n",
    "    # force to update metric values\n",
    "    with tf.control_dependencies([update_op]):\n",
    "        value = tf.identity(value)\n",
    "        return value\n",
    "    \n",
    "def sensitivity(y_true, y_pred):\n",
    "    true_positives = K.sum(K.round(K.clip(y_true * y_pred, 0, 1)))\n",
    "    possible_positives = K.sum(K.round(K.clip(y_true, 0, 1)))\n",
    "    return true_positives / (possible_positives + K.epsilon())\n",
    "\n",
    "def specificity(y_true, y_pred):\n",
    "    true_negatives = K.sum(K.round(K.clip((1-y_true) * (1-y_pred), 0, 1)))\n",
    "    possible_negatives = K.sum(K.round(K.clip(1-y_true, 0, 1)))\n",
    "    return true_negatives / (possible_negatives + K.epsilon())"
   ]
  },
  {
   "cell_type": "code",
   "execution_count": 7,
   "metadata": {},
   "outputs": [
    {
     "name": "stdout",
     "output_type": "stream",
     "text": [
      "_________________________________________________________________\n",
      "Layer (type)                 Output Shape              Param #   \n",
      "=================================================================\n",
      "dense_1 (Dense)              (None, 256)               131328    \n",
      "_________________________________________________________________\n",
      "dropout_1 (Dropout)          (None, 256)               0         \n",
      "_________________________________________________________________\n",
      "dense_2 (Dense)              (None, 1)                 257       \n",
      "=================================================================\n",
      "Total params: 131,585\n",
      "Trainable params: 131,585\n",
      "Non-trainable params: 0\n",
      "_________________________________________________________________\n"
     ]
    }
   ],
   "source": [
    "#Adding layers to the pretrained conv base                \n",
    "model = models.Sequential()\n",
    "model.add(layers.Dense(256, activation='relu', input_dim=1 * 1 * 512))\n",
    "model.add(layers.Dropout(0.5))\n",
    "model.add(layers.Dense(1, activation='sigmoid'))\n",
    "\n",
    "#Fine tuning\n",
    "#conv_base.trainable = True\n",
    "#set_trainable = False\n",
    "#for layer in conv_base.layers:\n",
    "#    if layer.name == 'block5_conv1':\n",
    "#        set_trainable = True\n",
    " #   if set_trainable:\n",
    "  #      layer.trainable = True\n",
    "   # else:\n",
    "    #    layer.trainable = False\n",
    "        \n",
    "#Compiling the model \n",
    "model.compile(optimizer=optimizers.RMSprop(lr=2e-5),\n",
    "              loss='binary_crossentropy',\n",
    "              metrics=['acc', sensitivity, specificity, auc_roc])\n",
    "\n",
    "\n",
    "\n",
    "model.summary()"
   ]
  },
  {
   "cell_type": "code",
   "execution_count": 8,
   "metadata": {},
   "outputs": [
    {
     "name": "stdout",
     "output_type": "stream",
     "text": [
      "Epoch 1/40\n",
      "50/50 [==============================] - 4s 75ms/step - loss: 0.7657 - acc: 0.4974 - sensitivity: 0.2663 - specificity: 0.7285 - auc_roc: 0.4767\n",
      "Epoch 2/40\n",
      "50/50 [==============================] - 3s 67ms/step - loss: 0.7251 - acc: 0.5221 - sensitivity: 0.4598 - specificity: 0.5843 - auc_roc: 0.5055\n",
      "Epoch 3/40\n",
      "50/50 [==============================] - 3s 67ms/step - loss: 0.7011 - acc: 0.5525 - sensitivity: 0.5447 - specificity: 0.5603 - auc_roc: 0.5253: 0s - loss: 0.7029 - acc: 0.5502 - sensitivity: 0.5412 - specificity: 0.5592 - auc_roc\n",
      "Epoch 4/40\n",
      "50/50 [==============================] - 3s 67ms/step - loss: 0.6855 - acc: 0.5755 - sensitivity: 0.5879 - specificity: 0.5631 - auc_roc: 0.5449: 3s - loss: 0.6941 - acc: 0.5618 - sensitivity: 0.5700 - specificity: 0.5536 - auc_roc: - ETA: 2s - loss: 0.6925 - acc: 0.5668 - sensitivity: 0.5746 - specificity: 0.559 - ETA: 1s - loss: 0.6887 - acc: 0.5715 - sensitivity: 0.5819 - specificity: 0.5611\n",
      "Epoch 5/40\n",
      "50/50 [==============================] - 3s 67ms/step - loss: 0.6728 - acc: 0.5940 - sensitivity: 0.6224 - specificity: 0.5656 - auc_roc: 0.5624\n",
      "Epoch 6/40\n",
      "50/50 [==============================] - 3s 67ms/step - loss: 0.6639 - acc: 0.6072 - sensitivity: 0.6504 - specificity: 0.5640 - auc_roc: 0.5773: 1s - loss: 0.6663 - acc: 0.6042 - sensitivity: 0.6454 - specificity: 0.5\n",
      "Epoch 7/40\n",
      "50/50 [==============================] - 3s 67ms/step - loss: 0.6565 - acc: 0.6174 - sensitivity: 0.6720 - specificity: 0.5628 - auc_roc: 0.5897\n",
      "Epoch 8/40\n",
      "50/50 [==============================] - 3s 69ms/step - loss: 0.6503 - acc: 0.6259 - sensitivity: 0.6874 - specificity: 0.5643 - auc_roc: 0.6002: 1s - loss: 0.6515 - acc: 0.6244 - sensitivity: 0.6853 - specificity: 0.5636 \n",
      "Epoch 9/40\n",
      "50/50 [==============================] - 3s 70ms/step - loss: 0.6438 - acc: 0.6321 - sensitivity: 0.7003 - specificity: 0.5639 - auc_roc: 0.6090: 2s - loss: 0.6451 - acc: 0.6300 - sensitivity: 0.6988 -\n",
      "Epoch 10/40\n",
      "50/50 [==============================] - 3s 69ms/step - loss: 0.6387 - acc: 0.6372 - sensitivity: 0.7105 - specificity: 0.5639 - auc_roc: 0.6168\n",
      "Epoch 11/40\n",
      "50/50 [==============================] - 3s 69ms/step - loss: 0.6339 - acc: 0.6447 - sensitivity: 0.7223 - specificity: 0.5670 - auc_roc: 0.6236\n",
      "Epoch 12/40\n",
      "50/50 [==============================] - 3s 69ms/step - loss: 0.6301 - acc: 0.6479 - sensitivity: 0.7289 - specificity: 0.5669 - auc_roc: 0.6297\n",
      "Epoch 13/40\n",
      "50/50 [==============================] - 3s 69ms/step - loss: 0.6270 - acc: 0.6524 - sensitivity: 0.7372 - specificity: 0.5676 - auc_roc: 0.6352: 0s - loss: 0.6278 - acc: 0.6515 - sensitivity: 0.7358 - specificity: 0.5672 - auc\n",
      "Epoch 14/40\n",
      "50/50 [==============================] - 3s 70ms/step - loss: 0.6225 - acc: 0.6568 - sensitivity: 0.7427 - specificity: 0.5709 - auc_roc: 0.6403\n",
      "Epoch 15/40\n",
      "50/50 [==============================] - 3s 70ms/step - loss: 0.6191 - acc: 0.6609 - sensitivity: 0.7486 - specificity: 0.5732 - auc_roc: 0.6451\n",
      "Epoch 16/40\n",
      "50/50 [==============================] - 3s 69ms/step - loss: 0.6175 - acc: 0.6621 - sensitivity: 0.7502 - specificity: 0.5740 - auc_roc: 0.6496\n",
      "Epoch 17/40\n",
      "50/50 [==============================] - 3s 70ms/step - loss: 0.6143 - acc: 0.6656 - sensitivity: 0.7539 - specificity: 0.5772 - auc_roc: 0.6537\n",
      "Epoch 18/40\n",
      "50/50 [==============================] - 3s 70ms/step - loss: 0.6119 - acc: 0.6679 - sensitivity: 0.7568 - specificity: 0.5791 - auc_roc: 0.6576: 0s - loss: 0.6123 - acc: 0.6679 - sensitivity: 0.7571 - specificity: 0.5786 - auc_\n",
      "Epoch 19/40\n",
      "50/50 [==============================] - 3s 69ms/step - loss: 0.6099 - acc: 0.6687 - sensitivity: 0.7577 - specificity: 0.5797 - auc_roc: 0.6612\n",
      "Epoch 20/40\n",
      "50/50 [==============================] - 3s 69ms/step - loss: 0.6076 - acc: 0.6727 - sensitivity: 0.7615 - specificity: 0.5839 - auc_roc: 0.6647\n",
      "Epoch 21/40\n",
      "50/50 [==============================] - 3s 70ms/step - loss: 0.6054 - acc: 0.6752 - sensitivity: 0.7637 - specificity: 0.5867 - auc_roc: 0.6680: 1s - loss: 0.6054 - acc: 0.6755 - sensitivity: 0.7644 - specificity: 0.5866 - \n",
      "Epoch 22/40\n",
      "50/50 [==============================] - 3s 69ms/step - loss: 0.6037 - acc: 0.6770 - sensitivity: 0.7639 - specificity: 0.5900 - auc_roc: 0.6711\n",
      "Epoch 23/40\n",
      "50/50 [==============================] - 3s 69ms/step - loss: 0.6021 - acc: 0.6785 - sensitivity: 0.7649 - specificity: 0.5921 - auc_roc: 0.6741\n",
      "Epoch 24/40\n",
      "50/50 [==============================] - 3s 70ms/step - loss: 0.6008 - acc: 0.6792 - sensitivity: 0.7647 - specificity: 0.5938 - auc_roc: 0.6768\n",
      "Epoch 25/40\n",
      "50/50 [==============================] - 4s 70ms/step - loss: 0.5992 - acc: 0.6812 - sensitivity: 0.7643 - specificity: 0.5981 - auc_roc: 0.6795\n",
      "Epoch 26/40\n",
      "50/50 [==============================] - 3s 69ms/step - loss: 0.5973 - acc: 0.6837 - sensitivity: 0.7658 - specificity: 0.6016 - auc_roc: 0.6820\n",
      "Epoch 27/40\n",
      "50/50 [==============================] - 4s 70ms/step - loss: 0.5957 - acc: 0.6844 - sensitivity: 0.7664 - specificity: 0.6024 - auc_roc: 0.6845: 2s - loss: 0.5957 - acc: 0.6844 - sensitivity: 0.7\n",
      "Epoch 28/40\n",
      "50/50 [==============================] - 3s 69ms/step - loss: 0.5944 - acc: 0.6858 - sensitivity: 0.7658 - specificity: 0.6058 - auc_roc: 0.6868: 2s - loss: 0.5951 - acc: 0.6859 - sensitivity: 0.7654 - specificity: 0.6065  - ETA: 1s - loss: 0.5949 - acc: 0.6854 - sensitivity: 0.7650 - specificity: 0.6057\n",
      "Epoch 29/40\n",
      "50/50 [==============================] - 3s 69ms/step - loss: 0.5937 - acc: 0.6870 - sensitivity: 0.7665 - specificity: 0.6076 - auc_roc: 0.6891\n",
      "Epoch 30/40\n",
      "50/50 [==============================] - 4s 70ms/step - loss: 0.5921 - acc: 0.6889 - sensitivity: 0.7667 - specificity: 0.6111 - auc_roc: 0.6912\n",
      "Epoch 31/40\n",
      "50/50 [==============================] - 3s 69ms/step - loss: 0.5907 - acc: 0.6893 - sensitivity: 0.7653 - specificity: 0.6134 - auc_roc: 0.6933\n",
      "Epoch 32/40\n",
      "50/50 [==============================] - 3s 69ms/step - loss: 0.5896 - acc: 0.6913 - sensitivity: 0.7650 - specificity: 0.6176 - auc_roc: 0.6952\n",
      "Epoch 33/40\n",
      "50/50 [==============================] - 3s 70ms/step - loss: 0.5881 - acc: 0.6917 - sensitivity: 0.7643 - specificity: 0.6191 - auc_roc: 0.6971: 3s - loss: 0.5880 - acc: 0.6922 - sensitivity: 0.7\n",
      "Epoch 34/40\n",
      "50/50 [==============================] - 3s 69ms/step - loss: 0.5874 - acc: 0.6925 - sensitivity: 0.7649 - specificity: 0.6200 - auc_roc: 0.6989\n",
      "Epoch 35/40\n",
      "50/50 [==============================] - 3s 69ms/step - loss: 0.5866 - acc: 0.6938 - sensitivity: 0.7655 - specificity: 0.6221 - auc_roc: 0.7007\n",
      "Epoch 36/40\n",
      "50/50 [==============================] - 3s 69ms/step - loss: 0.5849 - acc: 0.6954 - sensitivity: 0.7656 - specificity: 0.6252 - auc_roc: 0.7024\n",
      "Epoch 37/40\n",
      "50/50 [==============================] - 3s 69ms/step - loss: 0.5841 - acc: 0.6961 - sensitivity: 0.7645 - specificity: 0.6277 - auc_roc: 0.7040\n",
      "Epoch 38/40\n",
      "50/50 [==============================] - 3s 69ms/step - loss: 0.5830 - acc: 0.6968 - sensitivity: 0.7651 - specificity: 0.6284 - auc_roc: 0.7056\n",
      "Epoch 39/40\n",
      "50/50 [==============================] - 3s 69ms/step - loss: 0.5822 - acc: 0.6975 - sensitivity: 0.7645 - specificity: 0.6306 - auc_roc: 0.7071\n",
      "Epoch 40/40\n",
      "50/50 [==============================] - 3s 69ms/step - loss: 0.5810 - acc: 0.6988 - sensitivity: 0.7648 - specificity: 0.6328 - auc_roc: 0.7086\n"
     ]
    }
   ],
   "source": [
    "#Fitting the model\n",
    "history = model.fit(train_features, train_y,\n",
    "                    epochs=40, steps_per_epoch = 50)"
   ]
  },
  {
   "cell_type": "code",
   "execution_count": 38,
   "metadata": {},
   "outputs": [
    {
     "name": "stdout",
     "output_type": "stream",
     "text": [
      "Shape of the test image tensor after preprocessing:  (204, 61, 61, 3)\n",
      "Shape of the test labels (204,)\n"
     ]
    }
   ],
   "source": [
    "#loading the test dataset\n",
    "#image\n",
    "x_test = np.loadtxt('x_test_MTF_j.txt').reshape((204,61,61))\n",
    "x_test = norm(x_test)\n",
    "x_test = rgb(x_test)\n",
    "print('Shape of the test image tensor after preprocessing: ', x_test.shape)\n",
    "#labels\n",
    "y_test = np.loadtxt('y_test_MTF_j.txt')\n",
    "y_test = l_i(y_test)\n",
    "print('Shape of the test labels', y_test.shape)"
   ]
  },
  {
   "cell_type": "code",
   "execution_count": 39,
   "metadata": {},
   "outputs": [
    {
     "name": "stdout",
     "output_type": "stream",
     "text": [
      "(204, 512)\n"
     ]
    }
   ],
   "source": [
    "#Fitting the conv base of the pretrained model on our test set\n",
    "test_features = conv_base.predict(x_test)\n",
    "test_features = np.reshape(test_features, (204, 1 * 1 * 512)) #flatten it\n",
    "print(test_features.shape)"
   ]
  },
  {
   "cell_type": "code",
   "execution_count": 46,
   "metadata": {},
   "outputs": [
    {
     "data": {
      "text/plain": [
       "['loss', 'acc', 'sensitivity', 'specificity', 'auc_roc']"
      ]
     },
     "execution_count": 46,
     "metadata": {},
     "output_type": "execute_result"
    }
   ],
   "source": [
    "model.metrics_names"
   ]
  },
  {
   "cell_type": "code",
   "execution_count": 48,
   "metadata": {},
   "outputs": [
    {
     "name": "stdout",
     "output_type": "stream",
     "text": [
      "204/204 [==============================] - 0s 99us/step\n",
      "AUC using the evaluate function is:  0.7092791456802219\n"
     ]
    }
   ],
   "source": [
    "loss, acc, sensitivity, specificity, auc_roc = model.evaluate(test_features, y_test)\n",
    "print('AUC using the evaluate function is: ', auc_roc)"
   ]
  },
  {
   "cell_type": "markdown",
   "metadata": {},
   "source": [
    "#### Note that AUC obtained by pretrained VGG16 on MTF images is 70.92% "
   ]
  },
  {
   "cell_type": "code",
   "execution_count": 53,
   "metadata": {},
   "outputs": [],
   "source": [
    "predictions = model.predict(test_features) #array of prediction probabilities\n",
    "roc_mtf_16 = np.column_stack((y_test, predictions))\n",
    "roc_mtf_16_df = pd.DataFrame(roc_mtf_16)\n",
    "roc_mtf_16_df.to_csv(\"roc_mtf_16_predicted.csv\")"
   ]
  },
  {
   "cell_type": "code",
   "execution_count": 42,
   "metadata": {},
   "outputs": [
    {
     "name": "stdout",
     "output_type": "stream",
     "text": [
      "Saved model to disk\n"
     ]
    }
   ],
   "source": [
    "#Saving the model to disk\n",
    "\n",
    "#from keras.models import model_from_json\n",
    "#model_json = model.to_json()                    # serialize model to JSON\n",
    "#with open(\"VGG16_MTF.json\", \"w\") as json_file:\n",
    " #   json_file.write(model_json)\n",
    "#model.save_weights(\"VGG16_MTF.h5\")               #serialize weights to HDF5\n",
    "#print(\"Saved model to disk\")"
   ]
  },
  {
   "cell_type": "code",
   "execution_count": 43,
   "metadata": {},
   "outputs": [
    {
     "name": "stdout",
     "output_type": "stream",
     "text": [
      "Loaded model from disk\n"
     ]
    }
   ],
   "source": [
    "# load json and create model\n",
    "\n",
    "#json_file = open('VGG16_MTF.json', 'r')\n",
    "#loaded_model_json = json_file.read()\n",
    "#json_file.close()\n",
    "#loaded_model = model_from_json(loaded_model_json)\n",
    "#loaded_model.load_weights(\"VGG16_MTF.h5\")          # load weights into new model\n",
    "#print(\"Loaded model from disk\")"
   ]
  },
  {
   "cell_type": "code",
   "execution_count": 44,
   "metadata": {},
   "outputs": [
    {
     "name": "stdout",
     "output_type": "stream",
     "text": [
      "AUC attained by the pretrained CNN model on MTF images:  0.6661462399167317\n"
     ]
    }
   ],
   "source": [
    "# evaluate loaded model on test data\n",
    "\n",
    "#loaded_model.compile(optimizer=optimizers.RMSprop(lr=2e-5),\n",
    " #             loss='binary_crossentropy',\n",
    "  #            metrics=['acc', sensitivity, specificity, auc_roc])\n",
    "#predictions_loaded = loaded_model.predict(test_features)\n",
    "#print('AUC attained by the pretrained CNN model on MTF images: ', roc_auc_score(y_test, predictions_loaded))"
   ]
  },
  {
   "cell_type": "markdown",
   "metadata": {},
   "source": [
    "Now we repeat the entire process with images generated via RP"
   ]
  },
  {
   "cell_type": "code",
   "execution_count": 20,
   "metadata": {},
   "outputs": [
    {
     "name": "stdout",
     "output_type": "stream",
     "text": [
      "Original shape of training image tensor:  (3496, 61, 61)\n",
      "Original shape of training labels:  (3496,)\n",
      "Shape of the training image tensor after preprocessing:  (3496, 61, 61, 3)\n"
     ]
    }
   ],
   "source": [
    "#Read image array from disk\n",
    "x_train_RP = np.loadtxt('x_train_RP_j.txt').reshape((3496,61,61)) #using MTF\n",
    "y_train_RP = np.loadtxt('y_train_RP_j.txt')\n",
    "print('Original shape of training image tensor: ', x_train.shape)\n",
    "print('Original shape of training labels: ', y_train.shape)\n",
    "\n",
    "#Defining a bunch of custom functions for preprocessing\n",
    "\n",
    "#Normalize the images\n",
    "def norm(data_x):\n",
    "#convert to float32 and normalize to [0,1]\n",
    "    data_x = data_x.astype('float32')\n",
    "    data_x /= np.amax(data_x)\n",
    "    return data_x\n",
    "\n",
    "# convert labels to integers\n",
    "def l_i(data_y):\n",
    "    encoder = LabelEncoder()\n",
    "    encoder.fit(data_y)\n",
    "    data_y = encoder.transform(data_y)\n",
    "    return data_y\n",
    "\n",
    "#convert greyscale image to a 3D image\n",
    "def rgb(greyscale):\n",
    "    '''Takes in a 1 channel image and converts to rgb'''\n",
    "    rgb_batch = np.repeat(greyscale[..., np.newaxis], 3, -1)\n",
    "    return rgb_batch\n",
    "\n",
    "train_x_RP = norm(x_train_RP)\n",
    "train_y_RP = l_i(y_train_RP)\n",
    "train_x_RP = rgb(x_train_RP)\n",
    "print('Shape of the training image tensor after preprocessing: ', train_x_RP.shape)"
   ]
  },
  {
   "cell_type": "code",
   "execution_count": 21,
   "metadata": {},
   "outputs": [
    {
     "name": "stdout",
     "output_type": "stream",
     "text": [
      "(3496, 512)\n"
     ]
    }
   ],
   "source": [
    "train_features_RP = conv_base.predict(train_x_RP)\n",
    "train_features_RP = np.reshape(train_features_RP, (3496, 1 * 1 * 512)) #flatten it\n",
    "print(train_features_RP.shape)"
   ]
  },
  {
   "cell_type": "code",
   "execution_count": 22,
   "metadata": {},
   "outputs": [
    {
     "name": "stdout",
     "output_type": "stream",
     "text": [
      "_________________________________________________________________\n",
      "Layer (type)                 Output Shape              Param #   \n",
      "=================================================================\n",
      "dense_3 (Dense)              (None, 256)               131328    \n",
      "_________________________________________________________________\n",
      "dropout_2 (Dropout)          (None, 256)               0         \n",
      "_________________________________________________________________\n",
      "dense_4 (Dense)              (None, 1)                 257       \n",
      "=================================================================\n",
      "Total params: 131,585\n",
      "Trainable params: 131,585\n",
      "Non-trainable params: 0\n",
      "_________________________________________________________________\n"
     ]
    }
   ],
   "source": [
    "#Adding layers to the pretrained conv base                \n",
    "model_RP = models.Sequential()\n",
    "model_RP.add(layers.Dense(256, activation='relu', input_dim=1 * 1 * 512))\n",
    "model_RP.add(layers.Dropout(0.5))\n",
    "model_RP.add(layers.Dense(1, activation='sigmoid'))\n",
    "\n",
    "#Fine tuning\n",
    "#conv_base.trainable = True\n",
    "#set_trainable = False\n",
    "#for layer in conv_base.layers:\n",
    "#    if layer.name == 'block5_conv1':\n",
    "#        set_trainable = True\n",
    " #   if set_trainable:\n",
    "  #      layer.trainable = True\n",
    "   # else:\n",
    "    #    layer.trainable = False\n",
    "        \n",
    "#Compiling the model \n",
    "model_RP.compile(optimizer=optimizers.RMSprop(lr=2e-5),\n",
    "              loss='binary_crossentropy',\n",
    "              metrics=['acc', sensitivity, specificity, auc_roc])\n",
    "\n",
    "\n",
    "\n",
    "model_RP.summary()"
   ]
  },
  {
   "cell_type": "code",
   "execution_count": 23,
   "metadata": {},
   "outputs": [
    {
     "name": "stdout",
     "output_type": "stream",
     "text": [
      "Epoch 1/40\n",
      "50/50 [==============================] - 4s 74ms/step - loss: 0.7162 - acc: 0.5337 - sensitivity: 0.5510 - specificity: 0.5164 - auc_roc: 0.5215\n",
      "Epoch 2/40\n",
      "50/50 [==============================] - 3s 65ms/step - loss: 0.6882 - acc: 0.5726 - sensitivity: 0.5847 - specificity: 0.5604 - auc_roc: 0.5612\n",
      "Epoch 3/40\n",
      "50/50 [==============================] - 3s 65ms/step - loss: 0.6709 - acc: 0.5980 - sensitivity: 0.6118 - specificity: 0.5842 - auc_roc: 0.5846\n",
      "Epoch 4/40\n",
      "50/50 [==============================] - 4s 72ms/step - loss: 0.6570 - acc: 0.6187 - sensitivity: 0.6330 - specificity: 0.6045 - auc_roc: 0.6039\n",
      "Epoch 5/40\n",
      "50/50 [==============================] - 4s 74ms/step - loss: 0.6479 - acc: 0.6301 - sensitivity: 0.6469 - specificity: 0.6133 - auc_roc: 0.6193\n",
      "Epoch 6/40\n",
      "50/50 [==============================] - 4s 73ms/step - loss: 0.6404 - acc: 0.6375 - sensitivity: 0.6555 - specificity: 0.6194 - auc_roc: 0.6314\n",
      "Epoch 7/40\n",
      "50/50 [==============================] - 3s 67ms/step - loss: 0.6338 - acc: 0.6445 - sensitivity: 0.6634 - specificity: 0.6256 - auc_roc: 0.6414\n",
      "Epoch 8/40\n",
      "50/50 [==============================] - 4s 74ms/step - loss: 0.6278 - acc: 0.6508 - sensitivity: 0.6722 - specificity: 0.6293 - auc_roc: 0.6496\n",
      "Epoch 9/40\n",
      "50/50 [==============================] - 3s 69ms/step - loss: 0.6229 - acc: 0.6532 - sensitivity: 0.6766 - specificity: 0.6297 - auc_roc: 0.6568\n",
      "Epoch 10/40\n",
      "50/50 [==============================] - 4s 72ms/step - loss: 0.6186 - acc: 0.6587 - sensitivity: 0.6836 - specificity: 0.6338 - auc_roc: 0.6631\n",
      "Epoch 11/40\n",
      "50/50 [==============================] - 4s 75ms/step - loss: 0.6148 - acc: 0.6616 - sensitivity: 0.6887 - specificity: 0.6344 - auc_roc: 0.6686: 1s - loss: 0.6157 - acc: 0.6608 - sensitivity: 0.6872 - specificity: 0.6344 \n",
      "Epoch 12/40\n",
      "50/50 [==============================] - 4s 79ms/step - loss: 0.6108 - acc: 0.6654 - sensitivity: 0.6908 - specificity: 0.6401 - auc_roc: 0.6736\n",
      "Epoch 13/40\n",
      "50/50 [==============================] - 4s 78ms/step - loss: 0.6092 - acc: 0.6668 - sensitivity: 0.6938 - specificity: 0.6398 - auc_roc: 0.6780: 2s - loss: 0.6105 - acc: 0.6656 - sensitivity: 0.6932 - spe\n",
      "Epoch 14/40\n",
      "50/50 [==============================] - 4s 71ms/step - loss: 0.6058 - acc: 0.6714 - sensitivity: 0.6988 - specificity: 0.6440 - auc_roc: 0.6821\n",
      "Epoch 15/40\n",
      "50/50 [==============================] - 4s 80ms/step - loss: 0.6028 - acc: 0.6735 - sensitivity: 0.7018 - specificity: 0.6453 - auc_roc: 0.6859: 2s - loss: 0.6032 - acc: 0.6740 - sensitivity: 0.7019 - \n",
      "Epoch 16/40\n",
      "50/50 [==============================] - 4s 79ms/step - loss: 0.5998 - acc: 0.6762 - sensitivity: 0.7036 - specificity: 0.6488 - auc_roc: 0.6894\n",
      "Epoch 17/40\n",
      "50/50 [==============================] - 4s 73ms/step - loss: 0.5979 - acc: 0.6784 - sensitivity: 0.7060 - specificity: 0.6508 - auc_roc: 0.6926: 2s - loss: 0.5984 - acc: 0.6782 - sensitivity: 0.7067 - spe\n",
      "Epoch 18/40\n",
      "50/50 [==============================] - 4s 75ms/step - loss: 0.5955 - acc: 0.6799 - sensitivity: 0.7074 - specificity: 0.6523 - auc_roc: 0.6957\n",
      "Epoch 19/40\n",
      "50/50 [==============================] - 4s 70ms/step - loss: 0.5939 - acc: 0.6823 - sensitivity: 0.7102 - specificity: 0.6544 - auc_roc: 0.6985: 0s - loss: 0.5945 - acc: 0.6818 - sensitivity: 0.7094 - specificity: 0.6542 - auc\n",
      "Epoch 20/40\n",
      "50/50 [==============================] - 3s 70ms/step - loss: 0.5924 - acc: 0.6833 - sensitivity: 0.7106 - specificity: 0.6560 - auc_roc: 0.7012: 2s - loss: 0.5948 - acc: 0.6803 - sensitivity: 0\n",
      "Epoch 21/40\n",
      "50/50 [==============================] - 4s 75ms/step - loss: 0.5899 - acc: 0.6854 - sensitivity: 0.7135 - specificity: 0.6573 - auc_roc: 0.7037\n",
      "Epoch 22/40\n",
      "50/50 [==============================] - 4s 72ms/step - loss: 0.5884 - acc: 0.6871 - sensitivity: 0.7153 - specificity: 0.6589 - auc_roc: 0.7061\n",
      "Epoch 23/40\n",
      "50/50 [==============================] - 4s 71ms/step - loss: 0.5871 - acc: 0.6890 - sensitivity: 0.7173 - specificity: 0.6606 - auc_roc: 0.7083\n",
      "Epoch 24/40\n",
      "50/50 [==============================] - 4s 74ms/step - loss: 0.5854 - acc: 0.6901 - sensitivity: 0.7175 - specificity: 0.6628 - auc_roc: 0.7105\n",
      "Epoch 25/40\n",
      "50/50 [==============================] - 4s 75ms/step - loss: 0.5835 - acc: 0.6917 - sensitivity: 0.7194 - specificity: 0.6640 - auc_roc: 0.7125\n",
      "Epoch 26/40\n",
      "50/50 [==============================] - 3s 68ms/step - loss: 0.5823 - acc: 0.6926 - sensitivity: 0.7202 - specificity: 0.6651 - auc_roc: 0.7145: 2s - loss: 0.5830 - acc: 0.6922 - sensitivity: 0.7187 - - ETA: 0s - loss: 0.5824 - acc: 0.6926 - sensitivity: 0.7200 - specificity: 0.6652 - auc_roc: 0\n",
      "Epoch 27/40\n",
      "50/50 [==============================] - 3s 68ms/step - loss: 0.5807 - acc: 0.6941 - sensitivity: 0.7218 - specificity: 0.6665 - auc_roc: 0.7163: 1s - loss: 0.5812 - acc: 0.6943 - sensitivity: 0.7225 - specifici\n",
      "Epoch 28/40\n",
      "50/50 [==============================] - 4s 76ms/step - loss: 0.5798 - acc: 0.6957 - sensitivity: 0.7223 - specificity: 0.6691 - auc_roc: 0.7181\n",
      "Epoch 29/40\n",
      "50/50 [==============================] - 4s 81ms/step - loss: 0.5782 - acc: 0.6969 - sensitivity: 0.7239 - specificity: 0.6699 - auc_roc: 0.7198\n",
      "Epoch 30/40\n",
      "50/50 [==============================] - 4s 75ms/step - loss: 0.5767 - acc: 0.6979 - sensitivity: 0.7243 - specificity: 0.6715 - auc_roc: 0.7215\n",
      "Epoch 31/40\n",
      "50/50 [==============================] - 3s 69ms/step - loss: 0.5754 - acc: 0.6985 - sensitivity: 0.7240 - specificity: 0.6729 - auc_roc: 0.7230\n",
      "Epoch 32/40\n",
      "50/50 [==============================] - 4s 70ms/step - loss: 0.5743 - acc: 0.6996 - sensitivity: 0.7251 - specificity: 0.6742 - auc_roc: 0.7246: 2s - loss: 0.5748 - acc: 0.6998 - sensitivity: 0.7238 \n",
      "Epoch 33/40\n",
      "50/50 [==============================] - 4s 78ms/step - loss: 0.5730 - acc: 0.7016 - sensitivity: 0.7273 - specificity: 0.6758 - auc_roc: 0.7260\n",
      "Epoch 34/40\n",
      "50/50 [==============================] - 4s 83ms/step - loss: 0.5717 - acc: 0.7028 - sensitivity: 0.7290 - specificity: 0.6767 - auc_roc: 0.7275\n",
      "Epoch 35/40\n",
      "50/50 [==============================] - 4s 76ms/step - loss: 0.5698 - acc: 0.7043 - sensitivity: 0.7287 - specificity: 0.6799 - auc_roc: 0.7289\n",
      "Epoch 36/40\n",
      "50/50 [==============================] - 4s 74ms/step - loss: 0.5696 - acc: 0.7037 - sensitivity: 0.7297 - specificity: 0.6778 - auc_roc: 0.7302\n",
      "Epoch 37/40\n",
      "50/50 [==============================] - 4s 77ms/step - loss: 0.5679 - acc: 0.7053 - sensitivity: 0.7303 - specificity: 0.6802 - auc_roc: 0.7315\n",
      "Epoch 38/40\n",
      "50/50 [==============================] - 4s 72ms/step - loss: 0.5671 - acc: 0.7063 - sensitivity: 0.7302 - specificity: 0.6824 - auc_roc: 0.7328\n",
      "Epoch 39/40\n",
      "50/50 [==============================] - 4s 74ms/step - loss: 0.5649 - acc: 0.7078 - sensitivity: 0.7333 - specificity: 0.6822 - auc_roc: 0.7340\n",
      "Epoch 40/40\n",
      "50/50 [==============================] - 4s 80ms/step - loss: 0.5641 - acc: 0.7075 - sensitivity: 0.7315 - specificity: 0.6835 - auc_roc: 0.7352\n"
     ]
    }
   ],
   "source": [
    "history_RP = model_RP.fit(train_features_RP, train_y_RP,\n",
    "                    epochs=40, steps_per_epoch = 50)"
   ]
  },
  {
   "cell_type": "code",
   "execution_count": 24,
   "metadata": {},
   "outputs": [
    {
     "name": "stdout",
     "output_type": "stream",
     "text": [
      "Shape of the test image tensor after preprocessing:  (204, 61, 61, 3)\n",
      "Shape of the test labels (204,)\n",
      "(204, 512)\n"
     ]
    }
   ],
   "source": [
    "#loading the test dataset\n",
    "#image\n",
    "x_test_RP = np.loadtxt('x_test_RP_j.txt').reshape((204,61,61))\n",
    "x_test_RP = norm(x_test_RP)\n",
    "x_test_RP = rgb(x_test_RP)\n",
    "print('Shape of the test image tensor after preprocessing: ', x_test_RP.shape)\n",
    "#labels\n",
    "y_test_RP = np.loadtxt('y_test_RP_j.txt')\n",
    "y_test_RP = l_i(y_test_RP)\n",
    "print('Shape of the test labels', y_test_RP.shape)\n",
    "\n",
    "#Fitting the conv base of the pretrained model on our test set\n",
    "test_features_RP = conv_base.predict(x_test_RP)\n",
    "test_features_RP = np.reshape(test_features_RP, (204, 1 * 1 * 512)) #flatten it\n",
    "print('Shape of test features tensor after fitting the conv base: ', test_features_RP.shape)"
   ]
  },
  {
   "cell_type": "code",
   "execution_count": 49,
   "metadata": {},
   "outputs": [
    {
     "name": "stdout",
     "output_type": "stream",
     "text": [
      "204/204 [==============================] - 0s 1ms/step\n",
      "AUC using the evaluate function is:  0.7358150108187806\n"
     ]
    }
   ],
   "source": [
    "loss, acc, sensitivity, specificity, auc_roc = model_RP.evaluate(test_features_RP, y_test_RP)\n",
    "print('AUC using the evaluate function is: ', auc_roc)"
   ]
  },
  {
   "cell_type": "markdown",
   "metadata": {},
   "source": [
    "#### Note that AUC obtained by pretrained VGG16 on RP images is 73.58% "
   ]
  },
  {
   "cell_type": "code",
   "execution_count": 55,
   "metadata": {},
   "outputs": [],
   "source": [
    "predictions_RP = model_RP.predict(test_features_RP) #array of prediction probabilities\n",
    "roc_rp_16 = np.column_stack((y_test_RP, predictions_RP))\n",
    "roc_rp_16_df = pd.DataFrame(roc_rp_16)\n",
    "roc_rp_16_df.to_csv(\"roc_rp_16_predicted.csv\")"
   ]
  },
  {
   "cell_type": "code",
   "execution_count": 29,
   "metadata": {},
   "outputs": [
    {
     "name": "stdout",
     "output_type": "stream",
     "text": [
      "Saved model to disk\n"
     ]
    }
   ],
   "source": [
    "#Saving the model to disk\n",
    "#from keras.models import model_from_json\n",
    "# serialize model to JSON\n",
    "#model_json = model_RP.to_json()\n",
    "#with open(\"VGG16_RP.json\", \"w\") as json_file:\n",
    " #   json_file.write(model_json)\n",
    "#serialize weights to HDF5\n",
    "#model.save_weights(\"VGG16_RP.h5\")\n",
    "#print(\"Saved model to disk\")"
   ]
  },
  {
   "cell_type": "code",
   "execution_count": null,
   "metadata": {
    "collapsed": true
   },
   "outputs": [],
   "source": [
    "# load json and create model\n",
    "#json_file = open('VGG16_RP.json', 'r')\n",
    "#loaded_model_json = json_file.read()\n",
    "#json_file.close()\n",
    "#loaded_model = model_from_json(loaded_model_json)\n",
    "# load weights into new model\n",
    "#loaded_model.load_weights(\"VGG16_RP.h5\")\n",
    "#print(\"Loaded model from disk\")"
   ]
  },
  {
   "cell_type": "markdown",
   "metadata": {},
   "source": [
    "# Summary\n",
    "\n",
    "#### In this notebook we used the convolutional base of an imagenet based pre-trained VGG16 network to generate features for both our training and test images. We then built a small model [FC - Dropout - FC] and used it to classify for our test images. \n",
    "\n",
    "### AUC obtained with MTF images : 70.92%\n",
    "### AUC obtained with RP images : 73.58%\n",
    "\n",
    "##### Training details: <br> <br> Optimize = RMSprop(lr=2e-5) <br> Loss = Binary Crossentropy <br> Training metric = AUC, Sensitivity, Specificity, Accuracy  <br> Epochs = 40 <br> Steps per epoch = 50\n",
    "       \n",
    "\n",
    "                    "
   ]
  },
  {
   "cell_type": "code",
   "execution_count": null,
   "metadata": {
    "collapsed": true
   },
   "outputs": [],
   "source": []
  }
 ],
 "metadata": {
  "kernelspec": {
   "display_name": "Python 3",
   "language": "python",
   "name": "python3"
  },
  "language_info": {
   "codemirror_mode": {
    "name": "ipython",
    "version": 3
   },
   "file_extension": ".py",
   "mimetype": "text/x-python",
   "name": "python",
   "nbconvert_exporter": "python",
   "pygments_lexer": "ipython3",
   "version": "3.6.3"
  }
 },
 "nbformat": 4,
 "nbformat_minor": 2
}
