{
 "cells": [
  {
   "cell_type": "markdown",
   "metadata": {},
   "source": [
    "* This notebook contains a CNN model trained on drowsy driving images. <br>\n",
    "* 60s Time series were windowed from original win60s events. \n",
    "* These time series were then oversampled using the OSTSC package in R. \n",
    "* Oversampled time series were converted to MTF and RP images using the pyts package in pyton."
   ]
  },
  {
   "cell_type": "code",
   "execution_count": 1,
   "metadata": {},
   "outputs": [
    {
     "name": "stderr",
     "output_type": "stream",
     "text": [
      "/Users/apple/anaconda3/lib/python3.6/site-packages/h5py/__init__.py:34: FutureWarning: Conversion of the second argument of issubdtype from `float` to `np.floating` is deprecated. In future, it will be treated as `np.float64 == np.dtype(float).type`.\n",
      "  from ._conv import register_converters as _register_converters\n",
      "Using TensorFlow backend.\n"
     ]
    },
    {
     "data": {
      "text/plain": [
       "'/Users/apple/Drowsy/60'"
      ]
     },
     "execution_count": 1,
     "metadata": {},
     "output_type": "execute_result"
    }
   ],
   "source": [
    "import pandas as pd\n",
    "import numpy as np\n",
    "import random\n",
    "import os\n",
    "from keras.utils import np_utils\n",
    "from keras import layers\n",
    "from keras import models\n",
    "from keras import optimizers\n",
    "import tensorflow as tf\n",
    "from sklearn.preprocessing import LabelEncoder\n",
    "import matplotlib.pyplot as plt\n",
    "from sklearn.metrics import confusion_matrix\n",
    "from keras import metrics\n",
    "from keras import backend as K\n",
    "from sklearn.utils import class_weight\n",
    "from matplotlib import pyplot\n",
    "from sklearn.metrics import roc_curve, auc\n",
    "from keras.preprocessing import image\n",
    "from keras.datasets import mnist\n",
    "from sklearn.preprocessing import LabelEncoder\n",
    "from sklearn.metrics import roc_auc_score\n",
    "\n",
    "os.getcwd()\n",
    "\n",
    "\n"
   ]
  },
  {
   "cell_type": "code",
   "execution_count": 2,
   "metadata": {},
   "outputs": [
    {
     "name": "stdout",
     "output_type": "stream",
     "text": [
      "(3496, 61, 61)\n",
      "(3496,)\n"
     ]
    }
   ],
   "source": [
    "#Read image array from disk\n",
    "x_train = np.loadtxt('x_train_MTF_j.txt').reshape((3496,61,61)) #using MTF\n",
    "y_train = np.loadtxt('y_train_MTF_j.txt')\n",
    "print(x_train.shape)\n",
    "print(y_train.shape)"
   ]
  },
  {
   "cell_type": "code",
   "execution_count": 3,
   "metadata": {},
   "outputs": [
    {
     "name": "stdout",
     "output_type": "stream",
     "text": [
      "Shape of the training image tensor after preprocessing:  (3496, 61, 61, 3)\n"
     ]
    }
   ],
   "source": [
    "#Defining a bunch of custom functions for preprocessing\n",
    "\n",
    "#Normalize the images\n",
    "def norm(data_x):\n",
    "#convert to float32 and normalize to [0,1]\n",
    "    data_x = data_x.astype('float32')\n",
    "    data_x /= np.amax(data_x)\n",
    "    return data_x\n",
    "\n",
    "# convert labels to integers\n",
    "def l_i(data_y):\n",
    "    encoder = LabelEncoder()\n",
    "    encoder.fit(data_y)\n",
    "    data_y = encoder.transform(data_y)\n",
    "    return data_y\n",
    "\n",
    "#convert greyscale image to a 3D image\n",
    "def rgb(greyscale):\n",
    "    '''Takes in a 1 channel image and converts to rgb'''\n",
    "    rgb_batch = np.repeat(greyscale[..., np.newaxis], 3, -1)\n",
    "    return rgb_batch\n",
    "\n",
    "train_x = norm(x_train)\n",
    "train_y = l_i(y_train)\n",
    "train_x = rgb(x_train)\n",
    "print('Shape of the training image tensor after preprocessing: ', train_x.shape)"
   ]
  },
  {
   "cell_type": "code",
   "execution_count": 5,
   "metadata": {},
   "outputs": [
    {
     "name": "stdout",
     "output_type": "stream",
     "text": [
      "_________________________________________________________________\n",
      "Layer (type)                 Output Shape              Param #   \n",
      "=================================================================\n",
      "input_1 (InputLayer)         (None, None, None, 3)     0         \n",
      "_________________________________________________________________\n",
      "block1_conv1 (Conv2D)        (None, None, None, 64)    1792      \n",
      "_________________________________________________________________\n",
      "block1_conv2 (Conv2D)        (None, None, None, 64)    36928     \n",
      "_________________________________________________________________\n",
      "block1_pool (MaxPooling2D)   (None, None, None, 64)    0         \n",
      "_________________________________________________________________\n",
      "block2_conv1 (Conv2D)        (None, None, None, 128)   73856     \n",
      "_________________________________________________________________\n",
      "block2_conv2 (Conv2D)        (None, None, None, 128)   147584    \n",
      "_________________________________________________________________\n",
      "block2_pool (MaxPooling2D)   (None, None, None, 128)   0         \n",
      "_________________________________________________________________\n",
      "block3_conv1 (Conv2D)        (None, None, None, 256)   295168    \n",
      "_________________________________________________________________\n",
      "block3_conv2 (Conv2D)        (None, None, None, 256)   590080    \n",
      "_________________________________________________________________\n",
      "block3_conv3 (Conv2D)        (None, None, None, 256)   590080    \n",
      "_________________________________________________________________\n",
      "block3_conv4 (Conv2D)        (None, None, None, 256)   590080    \n",
      "_________________________________________________________________\n",
      "block3_pool (MaxPooling2D)   (None, None, None, 256)   0         \n",
      "_________________________________________________________________\n",
      "block4_conv1 (Conv2D)        (None, None, None, 512)   1180160   \n",
      "_________________________________________________________________\n",
      "block4_conv2 (Conv2D)        (None, None, None, 512)   2359808   \n",
      "_________________________________________________________________\n",
      "block4_conv3 (Conv2D)        (None, None, None, 512)   2359808   \n",
      "_________________________________________________________________\n",
      "block4_conv4 (Conv2D)        (None, None, None, 512)   2359808   \n",
      "_________________________________________________________________\n",
      "block4_pool (MaxPooling2D)   (None, None, None, 512)   0         \n",
      "_________________________________________________________________\n",
      "block5_conv1 (Conv2D)        (None, None, None, 512)   2359808   \n",
      "_________________________________________________________________\n",
      "block5_conv2 (Conv2D)        (None, None, None, 512)   2359808   \n",
      "_________________________________________________________________\n",
      "block5_conv3 (Conv2D)        (None, None, None, 512)   2359808   \n",
      "_________________________________________________________________\n",
      "block5_conv4 (Conv2D)        (None, None, None, 512)   2359808   \n",
      "_________________________________________________________________\n",
      "block5_pool (MaxPooling2D)   (None, None, None, 512)   0         \n",
      "=================================================================\n",
      "Total params: 20,024,384\n",
      "Trainable params: 20,024,384\n",
      "Non-trainable params: 0\n",
      "_________________________________________________________________\n"
     ]
    }
   ],
   "source": [
    "############TRANSFER LEARNING##########\n",
    "from keras.applications.vgg19 import VGG19 #Using VGG19\n",
    "from keras.layers import Input, Dense, Convolution2D, MaxPooling2D, AveragePooling2D, ZeroPadding2D, Dropout, Flatten, merge, Reshape, Activation\n",
    "from keras.models import Model\n",
    "from keras.optimizers import SGD\n",
    "\n",
    "conv_base = VGG19(weights='imagenet', #Using pretrained weights of imagenet\n",
    "                  include_top=False,\n",
    "                  input_shape= False)\n",
    "conv_base.summary()"
   ]
  },
  {
   "cell_type": "markdown",
   "metadata": {},
   "source": [
    "In the step below we apply the convolutional base of the pretrained model on our training set of images."
   ]
  },
  {
   "cell_type": "code",
   "execution_count": 6,
   "metadata": {},
   "outputs": [
    {
     "name": "stdout",
     "output_type": "stream",
     "text": [
      "(3496, 512)\n"
     ]
    }
   ],
   "source": [
    "train_features = conv_base.predict(train_x)\n",
    "train_features = np.reshape(train_features, (3496, 1 * 1 * 512)) #flatten it\n",
    "print(train_features.shape)"
   ]
  },
  {
   "cell_type": "code",
   "execution_count": 7,
   "metadata": {
    "collapsed": true
   },
   "outputs": [],
   "source": [
    "#defining 3 custom metric for guiding our neural network\n",
    "def auc_roc(y_true, y_pred):\n",
    "    # any tensorflow metric\n",
    "    #value, update_op = metrics.roc_auc_score(y_true, y_pred)\n",
    "    value, update_op = tf.metrics.auc(y_true, y_pred)\n",
    "\n",
    "    # find all variables created for this metric\n",
    "    metric_vars = [i for i in tf.local_variables() if 'auc_roc' in i.name.split('/')[1]]\n",
    "\n",
    "    # Add metric variables to GLOBAL_VARIABLES collection.\n",
    "    # They will be initialized for new session.\n",
    "    for v in metric_vars:\n",
    "        tf.add_to_collection(tf.GraphKeys.GLOBAL_VARIABLES, v)\n",
    "\n",
    "    # force to update metric values\n",
    "    with tf.control_dependencies([update_op]):\n",
    "        value = tf.identity(value)\n",
    "        return value\n",
    "    \n",
    "def sensitivity(y_true, y_pred):\n",
    "    true_positives = K.sum(K.round(K.clip(y_true * y_pred, 0, 1)))\n",
    "    possible_positives = K.sum(K.round(K.clip(y_true, 0, 1)))\n",
    "    return true_positives / (possible_positives + K.epsilon())\n",
    "\n",
    "def specificity(y_true, y_pred):\n",
    "    true_negatives = K.sum(K.round(K.clip((1-y_true) * (1-y_pred), 0, 1)))\n",
    "    possible_negatives = K.sum(K.round(K.clip(1-y_true, 0, 1)))\n",
    "    return true_negatives / (possible_negatives + K.epsilon())"
   ]
  },
  {
   "cell_type": "code",
   "execution_count": 9,
   "metadata": {},
   "outputs": [
    {
     "name": "stdout",
     "output_type": "stream",
     "text": [
      "_________________________________________________________________\n",
      "Layer (type)                 Output Shape              Param #   \n",
      "=================================================================\n",
      "dense_3 (Dense)              (None, 256)               131328    \n",
      "_________________________________________________________________\n",
      "dropout_2 (Dropout)          (None, 256)               0         \n",
      "_________________________________________________________________\n",
      "dense_4 (Dense)              (None, 1)                 257       \n",
      "=================================================================\n",
      "Total params: 131,585\n",
      "Trainable params: 131,585\n",
      "Non-trainable params: 0\n",
      "_________________________________________________________________\n"
     ]
    }
   ],
   "source": [
    "#Adding layers to the pretrained conv base                \n",
    "model = models.Sequential()\n",
    "model.add(layers.Dense(256, activation='relu', input_dim=1 * 1 * 512))\n",
    "model.add(layers.Dropout(0.5))\n",
    "model.add(layers.Dense(1, activation='sigmoid'))\n",
    "\n",
    "#Fine tuning\n",
    "#conv_base.trainable = True\n",
    "#set_trainable = False\n",
    "#for layer in conv_base.layers:\n",
    "#    if layer.name == 'block5_conv1':\n",
    "#        set_trainable = True\n",
    " #   if set_trainable:\n",
    "  #      layer.trainable = True\n",
    "   # else:\n",
    "    #    layer.trainable = False\n",
    "        \n",
    "#Compiling the model \n",
    "model.compile(optimizer=optimizers.RMSprop(lr=2e-5),\n",
    "              loss='binary_crossentropy',\n",
    "              metrics=[auc_roc])\n",
    "\n",
    "\n",
    "\n",
    "model.summary()"
   ]
  },
  {
   "cell_type": "code",
   "execution_count": 10,
   "metadata": {},
   "outputs": [
    {
     "name": "stdout",
     "output_type": "stream",
     "text": [
      "Epoch 1/40\n",
      "50/50 [==============================] - 4s 77ms/step - loss: 0.7616 - auc_roc: 0.4987\n",
      "Epoch 2/40\n",
      "50/50 [==============================] - 3s 68ms/step - loss: 0.7203 - auc_roc: 0.5299\n",
      "Epoch 3/40\n",
      "50/50 [==============================] - 3s 66ms/step - loss: 0.6962 - auc_roc: 0.5510: 1s - loss: 0.6993 \n",
      "Epoch 4/40\n",
      "50/50 [==============================] - 3s 67ms/step - loss: 0.6811 - auc_roc: 0.5700: 0s - loss: 0.6814 - auc_roc: 0.56\n",
      "Epoch 5/40\n",
      "50/50 [==============================] - 3s 68ms/step - loss: 0.6689 - auc_roc: 0.5859\n",
      "Epoch 6/40\n",
      "50/50 [==============================] - 3s 68ms/step - loss: 0.6601 - auc_roc: 0.5984\n",
      "Epoch 7/40\n",
      "50/50 [==============================] - 4s 72ms/step - loss: 0.6522 - auc_roc: 0.6085\n",
      "Epoch 8/40\n",
      "50/50 [==============================] - 3s 69ms/step - loss: 0.6466 - auc_roc: 0.6167\n",
      "Epoch 9/40\n",
      "50/50 [==============================] - 3s 69ms/step - loss: 0.6414 - auc_roc: 0.6238: 1s - loss: 0.6421 - \n",
      "Epoch 10/40\n",
      "50/50 [==============================] - 3s 68ms/step - loss: 0.6358 - auc_roc: 0.6299\n",
      "Epoch 11/40\n",
      "50/50 [==============================] - 3s 70ms/step - loss: 0.6321 - auc_roc: 0.6354\n",
      "Epoch 12/40\n",
      "50/50 [==============================] - 3s 69ms/step - loss: 0.6287 - auc_roc: 0.6403: 1s - lo\n",
      "Epoch 13/40\n",
      "50/50 [==============================] - 3s 69ms/step - loss: 0.6257 - auc_roc: 0.6448\n",
      "Epoch 14/40\n",
      "50/50 [==============================] - 3s 69ms/step - loss: 0.6223 - auc_roc: 0.6490\n",
      "Epoch 15/40\n",
      "50/50 [==============================] - 3s 70ms/step - loss: 0.6200 - auc_roc: 0.6528\n",
      "Epoch 16/40\n",
      "50/50 [==============================] - 3s 70ms/step - loss: 0.6176 - auc_roc: 0.6564\n",
      "Epoch 17/40\n",
      "50/50 [==============================] - 3s 70ms/step - loss: 0.6157 - auc_roc: 0.6598\n",
      "Epoch 18/40\n",
      "50/50 [==============================] - 3s 70ms/step - loss: 0.6143 - auc_roc: 0.6629\n",
      "Epoch 19/40\n",
      "50/50 [==============================] - 4s 76ms/step - loss: 0.6122 - auc_roc: 0.6659\n",
      "Epoch 20/40\n",
      "50/50 [==============================] - 4s 71ms/step - loss: 0.6117 - auc_roc: 0.6687\n",
      "Epoch 21/40\n",
      "50/50 [==============================] - 4s 71ms/step - loss: 0.6095 - auc_roc: 0.6713\n",
      "Epoch 22/40\n",
      "50/50 [==============================] - 4s 75ms/step - loss: 0.6083 - auc_roc: 0.6738\n",
      "Epoch 23/40\n",
      "50/50 [==============================] - 4s 75ms/step - loss: 0.6077 - auc_roc: 0.6762\n",
      "Epoch 24/40\n",
      "50/50 [==============================] - 4s 74ms/step - loss: 0.6059 - auc_roc: 0.6784\n",
      "Epoch 25/40\n",
      "50/50 [==============================] - 3s 70ms/step - loss: 0.6052 - auc_roc: 0.6805\n",
      "Epoch 26/40\n",
      "50/50 [==============================] - 4s 82ms/step - loss: 0.6036 - auc_roc: 0.6825\n",
      "Epoch 27/40\n",
      "50/50 [==============================] - 4s 73ms/step - loss: 0.6027 - auc_roc: 0.6845\n",
      "Epoch 28/40\n",
      "50/50 [==============================] - 4s 70ms/step - loss: 0.6015 - auc_roc: 0.6863\n",
      "Epoch 29/40\n",
      "50/50 [==============================] - 4s 71ms/step - loss: 0.6003 - auc_roc: 0.6881\n",
      "Epoch 30/40\n",
      "50/50 [==============================] - 4s 71ms/step - loss: 0.5995 - auc_roc: 0.6899\n",
      "Epoch 31/40\n",
      "50/50 [==============================] - 4s 71ms/step - loss: 0.5985 - auc_roc: 0.6915\n",
      "Epoch 32/40\n",
      "50/50 [==============================] - 4s 71ms/step - loss: 0.5976 - auc_roc: 0.6931\n",
      "Epoch 33/40\n",
      "50/50 [==============================] - 4s 71ms/step - loss: 0.5967 - auc_roc: 0.6946\n",
      "Epoch 34/40\n",
      "50/50 [==============================] - 4s 71ms/step - loss: 0.5957 - auc_roc: 0.6961\n",
      "Epoch 35/40\n",
      "50/50 [==============================] - 4s 72ms/step - loss: 0.5949 - auc_roc: 0.6975\n",
      "Epoch 36/40\n",
      "50/50 [==============================] - 4s 72ms/step - loss: 0.5939 - auc_roc: 0.6989\n",
      "Epoch 37/40\n",
      "50/50 [==============================] - 4s 72ms/step - loss: 0.5937 - auc_roc: 0.7002\n",
      "Epoch 38/40\n",
      "50/50 [==============================] - 4s 72ms/step - loss: 0.5924 - auc_roc: 0.7015\n",
      "Epoch 39/40\n",
      "50/50 [==============================] - 4s 78ms/step - loss: 0.5913 - auc_roc: 0.7027\n",
      "Epoch 40/40\n",
      "50/50 [==============================] - 4s 73ms/step - loss: 0.5908 - auc_roc: 0.7039\n"
     ]
    }
   ],
   "source": [
    "#Fitting the model\n",
    "history = model.fit(train_features, train_y,\n",
    "                    epochs=40, steps_per_epoch = 50)"
   ]
  },
  {
   "cell_type": "code",
   "execution_count": 11,
   "metadata": {},
   "outputs": [
    {
     "name": "stdout",
     "output_type": "stream",
     "text": [
      "Shape of the test image tensor after preprocessing:  (204, 61, 61, 3)\n",
      "Shape of the test labels (204,)\n"
     ]
    }
   ],
   "source": [
    "#loading the test dataset\n",
    "#image\n",
    "x_test = np.loadtxt('x_test_MTF_j.txt').reshape((204,61,61))\n",
    "x_test = norm(x_test)\n",
    "x_test = rgb(x_test)\n",
    "print('Shape of the test image tensor after preprocessing: ', x_test.shape)\n",
    "#labels\n",
    "y_test = np.loadtxt('y_test_MTF_j.txt')\n",
    "y_test = l_i(y_test)\n",
    "print('Shape of the test labels', y_test.shape)"
   ]
  },
  {
   "cell_type": "code",
   "execution_count": 12,
   "metadata": {},
   "outputs": [
    {
     "name": "stdout",
     "output_type": "stream",
     "text": [
      "(204, 512)\n"
     ]
    }
   ],
   "source": [
    "#Fitting the conv base of the pretrained model on our test set\n",
    "test_features = conv_base.predict(x_test)\n",
    "test_features = np.reshape(test_features, (204, 1 * 1 * 512)) #flatten it\n",
    "print(test_features.shape)"
   ]
  },
  {
   "cell_type": "code",
   "execution_count": 41,
   "metadata": {},
   "outputs": [
    {
     "name": "stdout",
     "output_type": "stream",
     "text": [
      "204/204 [==============================] - 0s 96us/step\n",
      "AUC using the evaluate function is:  0.7045168537719577\n"
     ]
    }
   ],
   "source": [
    "loss, auc = model.evaluate(test_features, y_test)\n",
    "print('AUC using the evaluate function is: ', auc)"
   ]
  },
  {
   "cell_type": "markdown",
   "metadata": {},
   "source": [
    "#### Note that the AUC obtained by pretrained VGG19 on MTF images is 70.45%"
   ]
  },
  {
   "cell_type": "code",
   "execution_count": 60,
   "metadata": {},
   "outputs": [],
   "source": [
    "#predictions = model.predict(test_features) #array of prediction probabilities\n",
    "roc_mtf_19 = np.column_stack((y_test, predictions))\n",
    "roc_mtf_19_df = pd.DataFrame(roc_mtf_19)\n",
    "roc_mtf_19_df.to_csv(\"roc_mtf_19_predicted.csv\")"
   ]
  },
  {
   "cell_type": "code",
   "execution_count": 14,
   "metadata": {},
   "outputs": [
    {
     "name": "stdout",
     "output_type": "stream",
     "text": [
      "Saved model to disk\n"
     ]
    }
   ],
   "source": [
    "#Saving the model to disk\n",
    "\n",
    "#from keras.models import model_from_json\n",
    "#model_json = model.to_json()                    # serialize model to JSON\n",
    "#with open(\"VGG19_MTF.json\", \"w\") as json_file:\n",
    " #   json_file.write(model_json)\n",
    "#model.save_weights(\"VGG19_MTF.h5\")               #serialize weights to HDF5\n",
    "#print(\"Saved model to disk\")"
   ]
  },
  {
   "cell_type": "code",
   "execution_count": 15,
   "metadata": {},
   "outputs": [
    {
     "name": "stdout",
     "output_type": "stream",
     "text": [
      "Loaded model from disk\n"
     ]
    }
   ],
   "source": [
    "# load json and create model\n",
    "\n",
    "#json_file = open('VGG19_MTF.json', 'r')\n",
    "#loaded_model_json = json_file.read()\n",
    "#json_file.close()\n",
    "#loaded_model = model_from_json(loaded_model_json)\n",
    "#loaded_model.load_weights(\"VGG19_MTF.h5\")          # load weights into new model\n",
    "#print(\"Loaded model from disk\")"
   ]
  },
  {
   "cell_type": "code",
   "execution_count": 16,
   "metadata": {},
   "outputs": [
    {
     "name": "stdout",
     "output_type": "stream",
     "text": [
      "AUC attained by the pretrained CNN model on MTF images:  0.6999739786625032\n"
     ]
    }
   ],
   "source": [
    "# evaluate loaded model on test data\n",
    "\n",
    "#loaded_model.compile(optimizer=optimizers.RMSprop(lr=2e-5),\n",
    " #             loss='binary_crossentropy',\n",
    "  #            metrics=[auc_roc])\n",
    "#predictions_loaded = loaded_model.predict(test_features)\n",
    "#print('AUC attained by the pretrained CNN model on MTF images: ', roc_auc_score(y_test, predictions_loaded))"
   ]
  },
  {
   "cell_type": "markdown",
   "metadata": {},
   "source": [
    "Now we repeat the entire process with images generated via RP"
   ]
  },
  {
   "cell_type": "code",
   "execution_count": 17,
   "metadata": {},
   "outputs": [
    {
     "name": "stdout",
     "output_type": "stream",
     "text": [
      "Original shape of training image tensor:  (3496, 61, 61)\n",
      "Original shape of training labels:  (3496,)\n",
      "Shape of the training image tensor after preprocessing:  (3496, 61, 61, 3)\n"
     ]
    }
   ],
   "source": [
    "#Read image array from disk\n",
    "x_train_RP = np.loadtxt('x_train_RP_j.txt').reshape((3496,61,61)) #using MTF\n",
    "y_train_RP = np.loadtxt('y_train_RP_j.txt')\n",
    "print('Original shape of training image tensor: ', x_train.shape)\n",
    "print('Original shape of training labels: ', y_train.shape)\n",
    "\n",
    "#Defining a bunch of custom functions for preprocessing\n",
    "\n",
    "#Normalize the images\n",
    "def norm(data_x):\n",
    "#convert to float32 and normalize to [0,1]\n",
    "    data_x = data_x.astype('float32')\n",
    "    data_x /= np.amax(data_x)\n",
    "    return data_x\n",
    "\n",
    "# convert labels to integers\n",
    "def l_i(data_y):\n",
    "    encoder = LabelEncoder()\n",
    "    encoder.fit(data_y)\n",
    "    data_y = encoder.transform(data_y)\n",
    "    return data_y\n",
    "\n",
    "#convert greyscale image to a 3D image\n",
    "def rgb(greyscale):\n",
    "    '''Takes in a 1 channel image and converts to rgb'''\n",
    "    rgb_batch = np.repeat(greyscale[..., np.newaxis], 3, -1)\n",
    "    return rgb_batch\n",
    "\n",
    "train_x_RP = norm(x_train_RP)\n",
    "train_y_RP = l_i(y_train_RP)\n",
    "train_x_RP = rgb(x_train_RP)\n",
    "print('Shape of the training image tensor after preprocessing: ', train_x_RP.shape)"
   ]
  },
  {
   "cell_type": "code",
   "execution_count": 18,
   "metadata": {},
   "outputs": [
    {
     "name": "stdout",
     "output_type": "stream",
     "text": [
      "(3496, 512)\n"
     ]
    }
   ],
   "source": [
    "train_features_RP = conv_base.predict(train_x_RP)\n",
    "train_features_RP = np.reshape(train_features_RP, (3496, 1 * 1 * 512)) #flatten it\n",
    "print(train_features_RP.shape)"
   ]
  },
  {
   "cell_type": "code",
   "execution_count": 20,
   "metadata": {},
   "outputs": [
    {
     "name": "stdout",
     "output_type": "stream",
     "text": [
      "_________________________________________________________________\n",
      "Layer (type)                 Output Shape              Param #   \n",
      "=================================================================\n",
      "dense_7 (Dense)              (None, 256)               131328    \n",
      "_________________________________________________________________\n",
      "dropout_4 (Dropout)          (None, 256)               0         \n",
      "_________________________________________________________________\n",
      "dense_8 (Dense)              (None, 1)                 257       \n",
      "=================================================================\n",
      "Total params: 131,585\n",
      "Trainable params: 131,585\n",
      "Non-trainable params: 0\n",
      "_________________________________________________________________\n"
     ]
    }
   ],
   "source": [
    "#Adding layers to the pretrained conv base                \n",
    "model_RP = models.Sequential()\n",
    "model_RP.add(layers.Dense(256, activation='relu', input_dim=1 * 1 * 512))\n",
    "model_RP.add(layers.Dropout(0.5))\n",
    "model_RP.add(layers.Dense(1, activation='sigmoid'))\n",
    "\n",
    "#Fine tuning\n",
    "#conv_base.trainable = True\n",
    "#set_trainable = False\n",
    "#for layer in conv_base.layers:\n",
    "#    if layer.name == 'block5_conv1':\n",
    "#        set_trainable = True\n",
    " #   if set_trainable:\n",
    "  #      layer.trainable = True\n",
    "   # else:\n",
    "    #    layer.trainable = False\n",
    "        \n",
    "#Compiling the model \n",
    "model_RP.compile(optimizer=optimizers.RMSprop(lr=2e-5),\n",
    "              loss='binary_crossentropy',\n",
    "              metrics=[auc_roc])\n",
    "\n",
    "\n",
    "\n",
    "model_RP.summary()"
   ]
  },
  {
   "cell_type": "code",
   "execution_count": 21,
   "metadata": {},
   "outputs": [
    {
     "name": "stdout",
     "output_type": "stream",
     "text": [
      "Epoch 1/40\n",
      "50/50 [==============================] - 4s 79ms/step - loss: 0.7408 - auc_roc: 0.5021\n",
      "Epoch 2/40\n",
      "50/50 [==============================] - 3s 69ms/step - loss: 0.7023 - auc_roc: 0.5488\n",
      "Epoch 3/40\n",
      "50/50 [==============================] - 3s 65ms/step - loss: 0.6772 - auc_roc: 0.5763\n",
      "Epoch 4/40\n",
      "50/50 [==============================] - 3s 65ms/step - loss: 0.6605 - auc_roc: 0.5986\n",
      "Epoch 5/40\n",
      "50/50 [==============================] - 3s 66ms/step - loss: 0.6493 - auc_roc: 0.6157\n",
      "Epoch 6/40\n",
      "50/50 [==============================] - 3s 66ms/step - loss: 0.6392 - auc_roc: 0.6292\n",
      "Epoch 7/40\n",
      "50/50 [==============================] - 3s 68ms/step - loss: 0.6310 - auc_roc: 0.6399\n",
      "Epoch 8/40\n",
      "50/50 [==============================] - 3s 67ms/step - loss: 0.6261 - auc_roc: 0.6487\n",
      "Epoch 9/40\n",
      "50/50 [==============================] - 3s 68ms/step - loss: 0.6197 - auc_roc: 0.6562: 2s - loss: 0.6204 -  - ETA: 1s - loss: \n",
      "Epoch 10/40\n",
      "50/50 [==============================] - 3s 67ms/step - loss: 0.6153 - auc_roc: 0.6626\n",
      "Epoch 11/40\n",
      "50/50 [==============================] - 3s 67ms/step - loss: 0.6112 - auc_roc: 0.6684\n",
      "Epoch 12/40\n",
      "50/50 [==============================] - 3s 69ms/step - loss: 0.6069 - auc_roc: 0.6735\n",
      "Epoch 13/40\n",
      "50/50 [==============================] - 3s 69ms/step - loss: 0.6042 - auc_roc: 0.6782: 0s - loss: 0.6044 - auc_\n",
      "Epoch 14/40\n",
      "50/50 [==============================] - 3s 68ms/step - loss: 0.6017 - auc_roc: 0.6824\n",
      "Epoch 15/40\n",
      "50/50 [==============================] - 3s 68ms/step - loss: 0.5994 - auc_roc: 0.6862\n",
      "Epoch 16/40\n",
      "50/50 [==============================] - 3s 69ms/step - loss: 0.5976 - auc_roc: 0.6897\n",
      "Epoch 17/40\n",
      "50/50 [==============================] - 3s 69ms/step - loss: 0.5955 - auc_roc: 0.6929\n",
      "Epoch 18/40\n",
      "50/50 [==============================] - 3s 69ms/step - loss: 0.5929 - auc_roc: 0.6959\n",
      "Epoch 19/40\n",
      "50/50 [==============================] - 4s 73ms/step - loss: 0.5916 - auc_roc: 0.6987\n",
      "Epoch 20/40\n",
      "50/50 [==============================] - 4s 73ms/step - loss: 0.5901 - auc_roc: 0.7013\n",
      "Epoch 21/40\n",
      "50/50 [==============================] - 4s 70ms/step - loss: 0.5887 - auc_roc: 0.7038\n",
      "Epoch 22/40\n",
      "50/50 [==============================] - 3s 69ms/step - loss: 0.5870 - auc_roc: 0.7061\n",
      "Epoch 23/40\n",
      "50/50 [==============================] - 3s 69ms/step - loss: 0.5860 - auc_roc: 0.7082\n",
      "Epoch 24/40\n",
      "50/50 [==============================] - 3s 70ms/step - loss: 0.5852 - auc_roc: 0.7103\n",
      "Epoch 25/40\n",
      "50/50 [==============================] - 4s 70ms/step - loss: 0.5833 - auc_roc: 0.7122\n",
      "Epoch 26/40\n",
      "50/50 [==============================] - 4s 75ms/step - loss: 0.5824 - auc_roc: 0.7140\n",
      "Epoch 27/40\n",
      "50/50 [==============================] - 3s 69ms/step - loss: 0.5814 - auc_roc: 0.7158\n",
      "Epoch 28/40\n",
      "50/50 [==============================] - 3s 69ms/step - loss: 0.5796 - auc_roc: 0.7174\n",
      "Epoch 29/40\n",
      "50/50 [==============================] - 3s 69ms/step - loss: 0.5783 - auc_roc: 0.7190\n",
      "Epoch 30/40\n",
      "50/50 [==============================] - 3s 69ms/step - loss: 0.5772 - auc_roc: 0.7206\n",
      "Epoch 31/40\n",
      "50/50 [==============================] - 3s 69ms/step - loss: 0.5761 - auc_roc: 0.7221\n",
      "Epoch 32/40\n",
      "50/50 [==============================] - 3s 69ms/step - loss: 0.5755 - auc_roc: 0.7235: 1s - loss\n",
      "Epoch 33/40\n",
      "50/50 [==============================] - 3s 69ms/step - loss: 0.5740 - auc_roc: 0.7248\n",
      "Epoch 34/40\n",
      "50/50 [==============================] - 3s 69ms/step - loss: 0.5734 - auc_roc: 0.7261\n",
      "Epoch 35/40\n",
      "50/50 [==============================] - 3s 69ms/step - loss: 0.5720 - auc_roc: 0.7274\n",
      "Epoch 36/40\n",
      "50/50 [==============================] - 3s 69ms/step - loss: 0.5709 - auc_roc: 0.7287: 0s - loss: 0.5708 - auc_\n",
      "Epoch 37/40\n",
      "50/50 [==============================] - 3s 70ms/step - loss: 0.5699 - auc_roc: 0.7298\n",
      "Epoch 38/40\n",
      "50/50 [==============================] - 3s 70ms/step - loss: 0.5690 - auc_roc: 0.7310\n",
      "Epoch 39/40\n",
      "50/50 [==============================] - 3s 69ms/step - loss: 0.5679 - auc_roc: 0.7321\n",
      "Epoch 40/40\n",
      "50/50 [==============================] - 4s 70ms/step - loss: 0.5673 - auc_roc: 0.7332\n"
     ]
    }
   ],
   "source": [
    "history_RP = model_RP.fit(train_features_RP, train_y_RP,\n",
    "                    epochs=40, steps_per_epoch = 50)"
   ]
  },
  {
   "cell_type": "code",
   "execution_count": 22,
   "metadata": {},
   "outputs": [
    {
     "name": "stdout",
     "output_type": "stream",
     "text": [
      "Shape of the test image tensor after preprocessing:  (204, 61, 61, 3)\n",
      "Shape of the test labels (204,)\n",
      "Shape of test features tensor after fitting the conv base:  (204, 512)\n"
     ]
    }
   ],
   "source": [
    "#loading the test dataset\n",
    "#image\n",
    "x_test_RP = np.loadtxt('x_test_RP_j.txt').reshape((204,61,61))\n",
    "x_test_RP = norm(x_test_RP)\n",
    "x_test_RP = rgb(x_test_RP)\n",
    "print('Shape of the test image tensor after preprocessing: ', x_test_RP.shape)\n",
    "#labels\n",
    "y_test_RP = np.loadtxt('y_test_RP_j.txt')\n",
    "y_test_RP = l_i(y_test_RP)\n",
    "print('Shape of the test labels', y_test_RP.shape)\n",
    "\n",
    "#Fitting the conv base of the pretrained model on our test set\n",
    "test_features_RP = conv_base.predict(x_test_RP)\n",
    "test_features_RP = np.reshape(test_features_RP, (204, 1 * 1 * 512)) #flatten it\n",
    "print('Shape of test features tensor after fitting the conv base: ', test_features_RP.shape)"
   ]
  },
  {
   "cell_type": "code",
   "execution_count": 52,
   "metadata": {},
   "outputs": [
    {
     "data": {
      "text/plain": [
       "['loss', 'auc_roc']"
      ]
     },
     "execution_count": 52,
     "metadata": {},
     "output_type": "execute_result"
    }
   ],
   "source": [
    "model_RP.metrics_names"
   ]
  },
  {
   "cell_type": "code",
   "execution_count": 50,
   "metadata": {},
   "outputs": [
    {
     "name": "stdout",
     "output_type": "stream",
     "text": [
      "204/204 [==============================] - 0s 92us/step\n",
      "AUC using the evaluate function is:  0.7337754929766935\n"
     ]
    }
   ],
   "source": [
    "loss_RP, auc_RP = model_RP.evaluate(test_features_RP, y_test_RP)\n",
    "print('AUC using the evaluate function is: ', auc_RP)"
   ]
  },
  {
   "cell_type": "markdown",
   "metadata": {},
   "source": [
    "#### Note that AUC obtained by pretrained VGG19 on RP images is 73.37%"
   ]
  },
  {
   "cell_type": "code",
   "execution_count": 61,
   "metadata": {},
   "outputs": [],
   "source": [
    "#predictions_RP = model_RP.predict(test_features_RP) #array of prediction probabilities\n",
    "roc_rp_19 = np.column_stack((y_test_RP, predictions_RP))\n",
    "roc_rp_19_df = pd.DataFrame(roc_rp_19)\n",
    "roc_rp_19_df.to_csv(\"roc_rp_19_predicted.csv\")"
   ]
  },
  {
   "cell_type": "code",
   "execution_count": 36,
   "metadata": {},
   "outputs": [
    {
     "name": "stdout",
     "output_type": "stream",
     "text": [
      "Saved model to disk\n"
     ]
    }
   ],
   "source": [
    "#Saving the model to disk\n",
    "#from keras.models import model_from_json\n",
    "# serialize model to JSON\n",
    "#model_json = model_RP.to_json()\n",
    "#with open(\"VGG19_RP.json\", \"w\") as json_file:\n",
    " #   json_file.write(model_json)\n",
    "#serialize weights to HDF5\n",
    "#model.save_weights(\"VGG19_RP.h5\")\n",
    "#print(\"Saved model to disk\")"
   ]
  },
  {
   "cell_type": "code",
   "execution_count": 37,
   "metadata": {},
   "outputs": [
    {
     "name": "stdout",
     "output_type": "stream",
     "text": [
      "Loaded model from disk\n"
     ]
    }
   ],
   "source": [
    "# load json and create model\n",
    "#json_file = open('VGG19_RP.json', 'r')\n",
    "#loaded_model_json = json_file.read()\n",
    "#json_file.close()\n",
    "#loaded_model = model_from_json(loaded_model_json)\n",
    "# load weights into new model\n",
    "#loaded_model.load_weights(\"VGG19_RP.h5\")\n",
    "#print(\"Loaded model from disk\")"
   ]
  },
  {
   "cell_type": "markdown",
   "metadata": {},
   "source": [
    "# Summary\n",
    "\n",
    "#### In this notebook we used the convolutional base of an imagenet based pre-trained VGG19 network to generate features for both our training and test images. We then built a small model [FC - Dropout - FC] and used it to classify for our test images. \n",
    "\n",
    "### AUC obtained with MTF images : 70%\n",
    "### AUC obtained with RP images : 73%\n",
    "\n",
    "##### Training details: <br> <br> Optimize = RMSprop(lr=2e-5) <br> Loss = Binary Crossentropy <br> Training metric = AUC  <br> Epochs = 40 <br> Steps per epoch = 50\n",
    "       \n",
    "\n",
    "                    "
   ]
  }
 ],
 "metadata": {
  "kernelspec": {
   "display_name": "Python 3",
   "language": "python",
   "name": "python3"
  },
  "language_info": {
   "codemirror_mode": {
    "name": "ipython",
    "version": 3
   },
   "file_extension": ".py",
   "mimetype": "text/x-python",
   "name": "python",
   "nbconvert_exporter": "python",
   "pygments_lexer": "ipython3",
   "version": "3.6.3"
  }
 },
 "nbformat": 4,
 "nbformat_minor": 2
}
